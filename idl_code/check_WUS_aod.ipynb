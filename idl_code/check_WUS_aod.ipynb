{
 "cells": [
  {
   "cell_type": "code",
   "execution_count": 65,
   "id": "c229113c",
   "metadata": {},
   "outputs": [
    {
     "name": "stdout",
     "output_type": "stream",
     "text": [
      "/data/keeling/a/yulanh/c/BW_backup/output/caliop_cldclimatology_cad20_aerocld_201908.hdf\n",
      "[[0.04226725 0.06632344 0.06031948]\n",
      " [0.0583825  0.05954317 0.05893633]\n",
      " [0.07600869 0.05619035 0.06154834]\n",
      " [0.09053943 0.0739283  0.05585335]]\n",
      "[[411 347 217]\n",
      " [229 497 303]\n",
      " [264 335 499]\n",
      " [146 318 286]]\n",
      "(4, 3) clr ave tau 0.061422730630664064 clr num 3852\n",
      "(6, 36, 60) (3,) (4,)\n",
      "[30. 35. 40. 45.]\n",
      "[-138. -132. -126.]\n"
     ]
    }
   ],
   "source": [
    "import numpy as np\n",
    "import matplotlib.pyplot as plt\n",
    "from pyhdf.SD import SD, SDC\n",
    "import glob\n",
    "from datetime import datetime, date, timedelta\n",
    "\n",
    "datadir='/data/keeling/a/yulanh/c/BW_backup/output/'\n",
    "\n",
    "fnames=glob.glob(datadir+'*201908*')\n",
    "minlat=30\n",
    "maxlat=45\n",
    "minlon=-140\n",
    "maxlon=-125\n",
    "fnames=fnames[0:10]\n",
    "\n",
    "for fname in fnames:\n",
    "    if len(fname) == 88:\n",
    "        print(fname)\n",
    "        hdf=SD(fname)\n",
    "        lat=hdf.select('latitude')[:]\n",
    "        lon=hdf.select('longitude')[:]\n",
    "        aeroonly_tau=hdf.select('aero_only_tau')[:]\n",
    "        aeroonly_num=hdf.select('aero_only_numh')[:]\n",
    "        isolate_tau =hdf.select('isolate_aero_tau')[:]\n",
    "        isolate_num =hdf.select('isolate_aero_numh')[:]\n",
    "        connect_tau =hdf.select('incld_aero_tau')[:]\n",
    "        connect_num =hdf.select('incld_aero_numh')[:]\n",
    "        lonind=np.where((lon >= minlon) & (lon <=maxlon))[0]\n",
    "        latind=np.where((lat >= minlat) & (lat <=maxlat))[0]\n",
    "        \n",
    "        tpaeroonly_num=aeroonly_num[latind[0]:latind[len(latind)-1]+1,lonind[0]:lonind[len(lonind)-1]+1]\n",
    "        tpaeroonly_tau=aeroonly_tau[latind[0]:latind[len(latind)-1]+1,lonind[0]:lonind[len(lonind)-1]+1]\n",
    "        aeroonly_avetau=np.sum(tpaeroonly_tau*tpaeroonly_num)/np.sum(tpaeroonly_num)\n",
    "        print((tpaeroonly_tau))\n",
    "        print(tpaeroonly_num)\n",
    "        print(tpaeroonly_num.shape,'clr ave tau',aeroonly_avetau,'clr num',np.sum(tpaeroonly_num))\n",
    "        print(connect_num.shape, lonind.shape,latind.shape)\n",
    "        print(lat[latind])\n",
    "        print(lon[lonind])"
   ]
  }
 ],
 "metadata": {
  "kernelspec": {
   "display_name": "Python 3 (ipykernel)",
   "language": "python",
   "name": "python3"
  },
  "language_info": {
   "codemirror_mode": {
    "name": "ipython",
    "version": 3
   },
   "file_extension": ".py",
   "mimetype": "text/x-python",
   "name": "python",
   "nbconvert_exporter": "python",
   "pygments_lexer": "ipython3",
   "version": "3.8.12"
  }
 },
 "nbformat": 4,
 "nbformat_minor": 5
}
